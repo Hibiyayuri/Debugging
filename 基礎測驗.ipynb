{
  "nbformat": 4,
  "nbformat_minor": 0,
  "metadata": {
    "colab": {
      "provenance": [],
      "include_colab_link": true
    },
    "kernelspec": {
      "name": "python3",
      "display_name": "Python 3"
    },
    "language_info": {
      "name": "python"
    }
  },
  "cells": [
    {
      "cell_type": "markdown",
      "metadata": {
        "id": "view-in-github",
        "colab_type": "text"
      },
      "source": [
        "<a href=\"https://colab.research.google.com/github/Hibiyayuri/Debugging/blob/master/%E5%9F%BA%E7%A4%8E%E6%B8%AC%E9%A9%97.ipynb\" target=\"_parent\"><img src=\"https://colab.research.google.com/assets/colab-badge.svg\" alt=\"Open In Colab\"/></a>"
      ]
    },
    {
      "cell_type": "markdown",
      "source": [
        "# 基礎測驗\n",
        "\n",
        "* 說明: 首先這個檔案是僅供檢視的，所以你必須在自己的雲端硬碟中另存副本，再開始進行你自己的回答。回答過程中可以使用ChatGPT, 最後需要附上ChatGPT的使用連結。(在ChatGPT右上角的Share Chat，把連結複製下來貼在最下面。為什麼要最下面呢？因為這個Share Chat必須是在你完成了所有問題的詢問之後再給出來，才會有完整的問答)\n",
        "\n",
        "* 每一題有不同的分數，而每一題當中，在程式碼的後面都要有註解(1分)。若有文字框，就是希望你可以把你的想法寫出來，那邊也會是1分。若程式正確完成就可以得到剩下的分數。\n",
        "\n",
        "* 最後請將這個檔案下載成『你的學號_Quiz1.ipynb』檔案，並上傳到moodle繳交完成測驗"
      ],
      "metadata": {
        "id": "U-u5Zi3kXN_h"
      }
    },
    {
      "cell_type": "markdown",
      "source": [
        "** 學號: **\n",
        "\n",
        "** 姓名: **\n",
        "\n",
        "** 系級: **"
      ],
      "metadata": {
        "id": "XWN5uObzaXFS"
      }
    },
    {
      "cell_type": "markdown",
      "source": [
        "---\n",
        "\n",
        "1. 在一個字串中，它其實可以像一個list一樣把中間的某部分取出來。在這個世界上最長的單字pneumonoultramicroscopicsilicovolcanoconiosis中，我要取出它中間的某一段文字，舉例來說，第10到第15個英文字，該怎麼透過程式完成？(2 points)"
      ],
      "metadata": {
        "id": "tXXyIpu-l5tR"
      }
    },
    {
      "cell_type": "code",
      "source": [],
      "metadata": {
        "id": "vL-KrwbdnkzK"
      },
      "execution_count": null,
      "outputs": []
    },
    {
      "cell_type": "markdown",
      "source": [
        "---\n",
        "2. 請在下面的程式碼區域寫出一個程式，驗證tuple中的內容是無法被改變的。也就是你的這個程式，它執行時應該會出現錯誤訊息。這個錯誤訊息會是什麼？請把它複製出來寫在後面的文字區域 (3 points)"
      ],
      "metadata": {
        "id": "JCT1hNEJi2xv"
      }
    },
    {
      "cell_type": "code",
      "execution_count": null,
      "metadata": {
        "id": "D7zjdQzrivf6"
      },
      "outputs": [],
      "source": []
    },
    {
      "cell_type": "markdown",
      "source": [
        "**錯誤訊息會是什麼：**\n",
        "\n"
      ],
      "metadata": {
        "id": "X7YPN49_jPcV"
      }
    },
    {
      "cell_type": "markdown",
      "source": [
        "---\n",
        "\n",
        "3. 在Python中，集合set是無序的，但是它可以轉換成為list就變成有序的。請問這個轉換的過程，它是怎麼將set中的元素做排列的？請寫一個程式驗證你的猜測。(3 points)"
      ],
      "metadata": {
        "id": "0uPG6MQXjdqP"
      }
    },
    {
      "cell_type": "code",
      "source": [],
      "metadata": {
        "id": "MXV6PW93kPl3"
      },
      "execution_count": null,
      "outputs": []
    },
    {
      "cell_type": "markdown",
      "source": [
        "**在把set轉換成list的時候，我覺得它的排序方式是這樣：**"
      ],
      "metadata": {
        "id": "44ibRKLwkEB4"
      }
    },
    {
      "cell_type": "markdown",
      "source": [
        "---\n",
        "\n",
        "4. 請寫一個Python程式找出1到100中的質數, 並且把它放入一個list中。當然你可以透過for-loop的方式來完成。(3 points)不過你可以想想怎麼樣透過**集合的操作**來完成這個答案。(Extra 2 point)"
      ],
      "metadata": {
        "id": "xQDNTN_7kS4l"
      }
    },
    {
      "cell_type": "code",
      "source": [],
      "metadata": {
        "id": "IwuSFktrl43k"
      },
      "execution_count": null,
      "outputs": []
    },
    {
      "cell_type": "markdown",
      "source": [
        "---\n",
        "\n",
        "5. 你知道在python中有複數的型別嗎？請簡單做至少兩個**不同類型**的範例來使用它？在沒有引入任何函式庫的情況下，它能夠做什麼？(4 points)"
      ],
      "metadata": {
        "id": "_PZ1WkU8S4T6"
      }
    },
    {
      "cell_type": "code",
      "source": [],
      "metadata": {
        "id": "hee61icITp3x"
      },
      "execution_count": null,
      "outputs": []
    },
    {
      "cell_type": "markdown",
      "source": [
        "**在沒有引入任何函式庫的情況下，它能夠做什麼**:"
      ],
      "metadata": {
        "id": "IGqUoFAWYRdn"
      }
    },
    {
      "cell_type": "markdown",
      "source": [
        "---\n",
        "\n",
        "6. 請建立一個自己的Python學習字典，輸入關鍵字之後，秀出那一個關鍵字你的學習成果。至少要有4個關鍵字(5 points)"
      ],
      "metadata": {
        "id": "-ORrh12VWFJQ"
      }
    },
    {
      "cell_type": "code",
      "source": [],
      "metadata": {
        "id": "NWrNM_CoWQcd"
      },
      "execution_count": null,
      "outputs": []
    },
    {
      "cell_type": "markdown",
      "source": [
        "---\n",
        "\n",
        "**ChatGPT使用連結:**"
      ],
      "metadata": {
        "id": "TyPYVYgmZnbm"
      }
    }
  ]
}